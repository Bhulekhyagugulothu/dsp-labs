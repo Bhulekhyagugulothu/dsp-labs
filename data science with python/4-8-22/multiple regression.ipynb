{
 "cells": [
  {
   "cell_type": "code",
   "execution_count": 2,
   "id": "a2b041af",
   "metadata": {},
   "outputs": [
    {
     "name": "stdout",
     "output_type": "stream",
     "text": [
      "coefficient of determination :0.853341923092924\n",
      "intercept:4.141764910801051\n",
      "coefficient:[ 0.62090721 -0.04416861]\n",
      "predicted response:\n",
      "[ 4.0975963   7.20213234 13.36703581 19.44360206 25.82934856 31.42006014\n",
      " 36.78992868 39.85029611]\n",
      "predict response:\n",
      "[ 4.0975963   7.20213234 13.36703581 19.44360206 25.82934856 31.42006014\n",
      " 36.78992868 39.85029611]\n"
     ]
    }
   ],
   "source": [
    "import numpy as np\n",
    "from sklearn.linear_model import LinearRegression\n",
    "x=[[0,1],[5,1],[15,2],[25,5],[35,1],[45,15],[55,34],[60,35]]\n",
    "y=[4,5,20,14,32,22,38,43]\n",
    "x=np.array(x)\n",
    "y=np.array(y)\n",
    "model=LinearRegression().fit(x,y)\n",
    "r_sq=model.score(x,y)\n",
    "print(f\"coefficient of determination :{r_sq}\")\n",
    "print(f\"intercept:{model.intercept_}\")\n",
    "print(f\"coefficient:{model.coef_}\")\n",
    "y_pred=model.predict(x)\n",
    "print(f\"predicted response:\\n{y_pred}\")\n",
    "y_pred=model.intercept_ +np.sum(model.coef_*x,axis=1)\n",
    "print(f\"predict response:\\n{y_pred}\")\n",
    "x_new=np.arange(10).reshape((-1,2))\n",
    "y_new=model.predict(x_new)"
   ]
  },
  {
   "cell_type": "code",
   "execution_count": null,
   "id": "1817a6a1",
   "metadata": {},
   "outputs": [],
   "source": []
  }
 ],
 "metadata": {
  "kernelspec": {
   "display_name": "Python 3 (ipykernel)",
   "language": "python",
   "name": "python3"
  },
  "language_info": {
   "codemirror_mode": {
    "name": "ipython",
    "version": 3
   },
   "file_extension": ".py",
   "mimetype": "text/x-python",
   "name": "python",
   "nbconvert_exporter": "python",
   "pygments_lexer": "ipython3",
   "version": "3.9.12"
  }
 },
 "nbformat": 4,
 "nbformat_minor": 5
}
