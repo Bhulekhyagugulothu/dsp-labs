{
 "cells": [
  {
   "cell_type": "code",
   "execution_count": 1,
   "id": "b8245574",
   "metadata": {
    "scrolled": true
   },
   "outputs": [
    {
     "name": "stdout",
     "output_type": "stream",
     "text": [
      "coefficient of determination :0.8908516262498563\n",
      "intercept:21.372321428571453\n",
      "coefficient:[-1.32357143  0.02839286]\n",
      "coefficient of determination :0.8908516262498563\n",
      "intercept:0.0\n",
      "coefficient:[21.37232143 -1.32357143  0.02839286]\n",
      "predict response:\n",
      "[15.46428571  7.90714286  6.02857143  9.82857143 19.30714286 34.46428571]\n"
     ]
    }
   ],
   "source": [
    "import numpy as np\n",
    "from sklearn.linear_model import LinearRegression\n",
    "from sklearn.preprocessing import PolynomialFeatures\n",
    "x=np.array([5,15,25,35,45,55]).reshape(-1,1)\n",
    "y=np.array([15,11,2,8,25,32])\n",
    "transformer=PolynomialFeatures(degree=2,include_bias =False)\n",
    "transformer.fit(x)\n",
    "x_=transformer.transform(x)\n",
    "#x_=PolynomialFeatures(degree=2,include_bias=False).fit_transform(x)\n",
    "model=LinearRegression().fit(x_,y)\n",
    "r_sq=model.score(x_,y)\n",
    "print(f\"coefficient of determination :{r_sq}\")\n",
    "print(f\"intercept:{model.intercept_}\")\n",
    "print(f\"coefficient:{model.coef_}\")\n",
    "x_=PolynomialFeatures(degree=2,include_bias=True).fit_transform(x)\n",
    "model=LinearRegression(fit_intercept=False).fit(x_,y)\n",
    "r_sq=model.score(x_,y)\n",
    "print(f\"coefficient of determination :{r_sq}\")\n",
    "print(f\"intercept:{model.intercept_}\")\n",
    "print(f\"coefficient:{model.coef_}\")\n",
    "y_pred=model.predict(x_)\n",
    "print(f\"predict response:\\n{y_pred}\")"
   ]
  },
  {
   "cell_type": "markdown",
   "id": "a12277f6",
   "metadata": {},
   "source": [
    "## polynomial regression with multi variables\n"
   ]
  },
  {
   "cell_type": "code",
   "execution_count": 3,
   "id": "a67fd277",
   "metadata": {},
   "outputs": [
    {
     "name": "stdout",
     "output_type": "stream",
     "text": [
      "coefficient of determination :0.9675613701640617\n",
      "intercept:5.627837929912673\n",
      "coefficient:[ 1.07354094 -2.80314515 -0.00752545  0.0217897   0.04331297]\n",
      "predict response:\n",
      "[ 2.86800575  8.15652262 15.25837756 17.55376372 31.98589777 21.10442301\n",
      " 37.41768035 43.65532923]\n"
     ]
    }
   ],
   "source": [
    "import numpy as np\n",
    "from sklearn.linear_model import LinearRegression\n",
    "from sklearn.preprocessing import PolynomialFeatures\n",
    "x=[[0,1],[5,1],[15,2],[25,5],[35,1],[45,15],[55,34],[60,35]]\n",
    "y=[4,5,20,14,32,22,38,43]\n",
    "x=np.array(x)\n",
    "y=np.array(y)\n",
    "x_=PolynomialFeatures(degree=2,include_bias=False).fit_transform(x)\n",
    "model=LinearRegression().fit(x_,y)\n",
    "r_sq=model.score(x_,y)\n",
    "print(f\"coefficient of determination :{r_sq}\")\n",
    "print(f\"intercept:{model.intercept_}\")\n",
    "print(f\"coefficient:{model.coef_}\")\n",
    "y_pred=model.predict(x_)\n",
    "print(f\"predict response:\\n{y_pred}\")\n"
   ]
  },
  {
   "cell_type": "code",
   "execution_count": null,
   "id": "ab1d8313",
   "metadata": {},
   "outputs": [],
   "source": []
  }
 ],
 "metadata": {
  "kernelspec": {
   "display_name": "Python 3 (ipykernel)",
   "language": "python",
   "name": "python3"
  },
  "language_info": {
   "codemirror_mode": {
    "name": "ipython",
    "version": 3
   },
   "file_extension": ".py",
   "mimetype": "text/x-python",
   "name": "python",
   "nbconvert_exporter": "python",
   "pygments_lexer": "ipython3",
   "version": "3.9.12"
  }
 },
 "nbformat": 4,
 "nbformat_minor": 5
}
