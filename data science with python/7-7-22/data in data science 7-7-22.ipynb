{
 "cells": [
  {
   "cell_type": "code",
   "execution_count": 23,
   "id": "6c75c577",
   "metadata": {},
   "outputs": [
    {
     "data": {
      "text/plain": [
       "array([2, 1, 4, 3, 5])"
      ]
     },
     "execution_count": 23,
     "metadata": {},
     "output_type": "execute_result"
    }
   ],
   "source": [
    "import numpy as np\n",
    "import scipy as st\n",
    "p1=np.array([2,1,4,3,5])\n",
    "p1"
   ]
  },
  {
   "cell_type": "code",
   "execution_count": 11,
   "id": "b0ef8379",
   "metadata": {},
   "outputs": [
    {
     "data": {
      "text/plain": [
       "3.0"
      ]
     },
     "execution_count": 11,
     "metadata": {},
     "output_type": "execute_result"
    }
   ],
   "source": [
    "p1.mean()"
   ]
  },
  {
   "cell_type": "code",
   "execution_count": 14,
   "id": "56e5eadf",
   "metadata": {},
   "outputs": [
    {
     "data": {
      "text/plain": [
       "1.4142135623730951"
      ]
     },
     "execution_count": 14,
     "metadata": {},
     "output_type": "execute_result"
    }
   ],
   "source": [
    "p1.std()"
   ]
  },
  {
   "cell_type": "code",
   "execution_count": 15,
   "id": "e75abb5c",
   "metadata": {},
   "outputs": [
    {
     "data": {
      "text/plain": [
       "2.0"
      ]
     },
     "execution_count": 15,
     "metadata": {},
     "output_type": "execute_result"
    }
   ],
   "source": [
    "p1.var()"
   ]
  },
  {
   "cell_type": "code",
   "execution_count": 21,
   "id": "7e50786e",
   "metadata": {},
   "outputs": [
    {
     "data": {
      "text/plain": [
       "3.0"
      ]
     },
     "execution_count": 21,
     "metadata": {},
     "output_type": "execute_result"
    }
   ],
   "source": [
    "np.median(p1)"
   ]
  },
  {
   "cell_type": "code",
   "execution_count": 30,
   "id": "373d5dd8",
   "metadata": {},
   "outputs": [
    {
     "data": {
      "text/plain": [
       "2"
      ]
     },
     "execution_count": 30,
     "metadata": {},
     "output_type": "execute_result"
    }
   ],
   "source": [
    "import numpy as np\n",
    "import statistics as st\n",
    "p1=np.array([2,1,4,3,5])\n",
    "st.mode(p1)"
   ]
  },
  {
   "cell_type": "code",
   "execution_count": 66,
   "id": "951ade9d",
   "metadata": {},
   "outputs": [
    {
     "data": {
      "image/png": "[encoded data removed]",
      "text/plain": [
       "<Figure size 432x288 with 1 Axes>"
      ]
     },
     "metadata": {
      "needs_background": "light"
     },
     "output_type": "display_data"
    }
   ],
   "source": [
    "import matplotlib.pyplot as plt\n",
    "xaxis=[\"mean\",\"mode\",\"median\",\"std\",\"var\"]\n",
    "yaxis=[3,2,3,1.4142,2]\n",
    "plt.bar(xaxis,yaxis,color=\"red\")\n",
    "plt.title(\"population1\")\n",
    "plt.xlabel(\"xaxis\")\n",
    "plt.ylabel(\"yaxis\")\n",
    "plt.show()"
   ]
  },
  {
   "cell_type": "code",
   "execution_count": 59,
   "id": "9b64a0b2",
   "metadata": {},
   "outputs": [
    {
     "data": {
      "text/plain": [
       "0     2\n",
       "1     1\n",
       "2    40\n",
       "3     3\n",
       "4     5\n",
       "dtype: int64"
      ]
     },
     "execution_count": 59,
     "metadata": {},
     "output_type": "execute_result"
    }
   ],
   "source": [
    "import pandas as pd\n",
    "import statistics as st\n",
    "p2=pd.Series([2,1,40,3,5])\n",
    "p2"
   ]
  },
  {
   "cell_type": "code",
   "execution_count": 60,
   "id": "a4cc3889",
   "metadata": {},
   "outputs": [
    {
     "data": {
      "text/plain": [
       "10.2"
      ]
     },
     "execution_count": 60,
     "metadata": {},
     "output_type": "execute_result"
    }
   ],
   "source": [
    "p2.mean()"
   ]
  },
  {
   "cell_type": "code",
   "execution_count": 61,
   "id": "bae817b1",
   "metadata": {},
   "outputs": [
    {
     "data": {
      "text/plain": [
       "2"
      ]
     },
     "execution_count": 61,
     "metadata": {},
     "output_type": "execute_result"
    }
   ],
   "source": [
    "st.mode(p2)"
   ]
  },
  {
   "cell_type": "code",
   "execution_count": 62,
   "id": "c59e8e46",
   "metadata": {},
   "outputs": [
    {
     "data": {
      "text/plain": [
       "3.0"
      ]
     },
     "execution_count": 62,
     "metadata": {},
     "output_type": "execute_result"
    }
   ],
   "source": [
    "p2.median()"
   ]
  },
  {
   "cell_type": "code",
   "execution_count": 63,
   "id": "4407e8f1",
   "metadata": {},
   "outputs": [
    {
     "data": {
      "text/plain": [
       "16.724233913695418"
      ]
     },
     "execution_count": 63,
     "metadata": {},
     "output_type": "execute_result"
    }
   ],
   "source": [
    "p2.std()"
   ]
  },
  {
   "cell_type": "code",
   "execution_count": 64,
   "id": "9bb5e6a9",
   "metadata": {},
   "outputs": [
    {
     "data": {
      "text/plain": [
       "279.7"
      ]
     },
     "execution_count": 64,
     "metadata": {},
     "output_type": "execute_result"
    }
   ],
   "source": [
    "p2.var()"
   ]
  },
  {
   "cell_type": "code",
   "execution_count": 65,
   "id": "9cc3c5e1",
   "metadata": {},
   "outputs": [
    {
     "data": {
      "image/png": "[encoded data removed]",
      "text/plain": [
       "<Figure size 432x288 with 1 Axes>"
      ]
     },
     "metadata": {
      "needs_background": "light"
     },
     "output_type": "display_data"
    }
   ],
   "source": [
    "import matplotlib.pyplot as plt\n",
    "xaxis=[\"mean\",\"mode\",\"median\",\"std\",\"var\"]\n",
    "yaxis=[10.2,3,3,16.724,279.70000]\n",
    "plt.bar(xaxis,yaxis,color=\"blue\")\n",
    "plt.title(\"population2\")\n",
    "plt.xlabel(\"xaxis\")\n",
    "plt.ylabel(\"yaxis\")\n",
    "plt.show()"
   ]
  },
  {
   "cell_type": "code",
   "execution_count": null,
   "id": "7af299f0",
   "metadata": {},
   "outputs": [],
   "source": [
    "import matplotlib.pyplot as plt\n",
    "import numpy as np\n",
    "## plot1\n",
    "x=np.array([\"mean\",\"mode\",\"median\",\"std\",\"var\"])\n",
    "y=np.array([3,2,3,1.4142,2])\n",
    "plt.subplot(1,2,1)\n",
    "plt.title(\"population1\")\n",
    "## plot2\n",
    "x=np.array([\"mean\",\"mode\",\"median\",\"std\",\"var\"])\n",
    "y=np.array([10.2,3,3,16.724,279.70000])\n",
    "plt.subplot(1,2,1)\n",
    "plt.title(\"population1\")\n"
   ]
  }
 ],
 "metadata": {
  "kernelspec": {
   "display_name": "Python 3 (ipykernel)",
   "language": "python",
   "name": "python3"
  },
  "language_info": {
   "codemirror_mode": {
    "name": "ipython",
    "version": 3
   },
   "file_extension": ".py",
   "mimetype": "text/x-python",
   "name": "python",
   "nbconvert_exporter": "python",
   "pygments_lexer": "ipython3",
   "version": "3.9.12"
  }
 },
 "nbformat": 4,
 "nbformat_minor": 5
}
